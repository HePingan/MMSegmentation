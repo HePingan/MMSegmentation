{
 "cells": [
  {
   "cell_type": "markdown",
   "metadata": {},
   "source": [
    "##### 标注工具 labelme"
   ]
  },
  {
   "cell_type": "markdown",
   "metadata": {},
   "source": [
    "安装labelme <br />\n",
    "直接下载编译好的exe文件，win10使用ai标注会闪退 <br />\n",
    "解决方案：使用pip下载包 <br />\n",
    "使用conda创建一个labelme的环境 <br/>\n",
    "conda create -n labelme python==3.7 <br/>\n",
    "conda activate labelme进入环境 <br/>\n",
    "运行pip install labelme <br />\n",
    "输入 labelme 即可弹出界面<br />\n",
    "初次使用会下载权重，需要等一会儿"
   ]
  },
  {
   "cell_type": "markdown",
   "metadata": {},
   "source": [
    "##### 安装配置MMSegmentation"
   ]
  },
  {
   "cell_type": "markdown",
   "metadata": {},
   "source": [
    "安装GPU版pytorch ，我的cuda是10.2 <br/>\n",
    "使用conda安装 conda install pytorch==1.6.0 torchvision==0.7.0 cudatoolkit=10.2 -c pytorch <br/>\n",
    "资料来源：https://pytorch.org/get-started/previous-versions/"
   ]
  },
  {
   "cell_type": "markdown",
   "metadata": {},
   "source": [
    "安装MMCV时，使用命令mim install mmcv==2.0.0安装会卡住 <br/>\n",
    "解决方案：<br/>\n",
    "换成pip install mmcv-full==1.7.1 -f https://download.openmmlab.com/mmcv/dist/cu102/torch1.6.0/index.html  安装 <br/>\n",
    "方案来源：https://mmcv.readthedocs.io/zh_CN/v1.6.0/get_started/installation.html"
   ]
  },
  {
   "cell_type": "markdown",
   "metadata": {},
   "source": [
    "安装 pytorch-lightning这个包时， 报这个错误ERROR: Operation cancelled by user <br/>\n",
    "单独安装pytorch-lightning会替换掉我们原来安装的pytorch版本，变为cpu的版本 <br/>\n",
    "解决方案： <br/>\n",
    "pip install pytorch-lightning==1.9.5 torch==1.10.0 --user\n"
   ]
  },
  {
   "cell_type": "code",
   "execution_count": null,
   "metadata": {
    "vscode": {
     "languageId": "plaintext"
    }
   },
   "outputs": [],
   "source": []
  },
  {
   "cell_type": "markdown",
   "metadata": {},
   "source": []
  }
 ],
 "metadata": {
  "language_info": {
   "name": "python"
  },
  "orig_nbformat": 4
 },
 "nbformat": 4,
 "nbformat_minor": 2
}
